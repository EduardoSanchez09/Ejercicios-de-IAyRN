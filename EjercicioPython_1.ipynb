{
  "nbformat": 4,
  "nbformat_minor": 0,
  "metadata": {
    "colab": {
      "provenance": []
    },
    "kernelspec": {
      "name": "python3",
      "display_name": "Python 3"
    },
    "language_info": {
      "name": "python"
    }
  },
  "cells": [
    {
      "cell_type": "code",
      "execution_count": 6,
      "metadata": {
        "colab": {
          "base_uri": "https://localhost:8080/"
        },
        "id": "5mwXnsA0PtUH",
        "outputId": "6e36cd25-5a1f-45de-cee1-5e510d6e22ab"
      },
      "outputs": [
        {
          "name": "stdout",
          "output_type": "stream",
          "text": [
            "Ingresa un número (o '0' para salir): 923\n",
            "El número 923 es impar.\n",
            "\n",
            "Ingresa un número (o '0' para salir): 0\n"
          ]
        }
      ],
      "source": [
        "def es_par_o_impar(numero):\n",
        "    if numero % 2 == 0:\n",
        "        return \"par\"\n",
        "    else:\n",
        "        return \"impar\"\n",
        "\n",
        "def main():\n",
        "    while True:\n",
        "        try:\n",
        "            numero = int(input(\"Ingresa un número (o '0' para salir): \"))\n",
        "\n",
        "            if numero == 0:\n",
        "                break\n",
        "\n",
        "            resultado = es_par_o_impar(numero)\n",
        "            print(f\"El número {numero} es {resultado}.\\n\")\n",
        "\n",
        "        except ValueError:\n",
        "            print(\"¡Debes ingresar un número entero!\\n\")\n",
        "\n",
        "if __name__ == \"__main__\":\n",
        "    main()\n"
      ]
    },
    {
      "cell_type": "code",
      "source": [
        "def main():\n",
        "    numeros = []\n",
        "    while True:\n",
        "        try:\n",
        "            entrada = input(\"Ingresa un número (o 'fin' para terminar): \")\n",
        "            if entrada.lower() == 'fin':\n",
        "                break\n",
        "            numero = float(entrada)\n",
        "            numeros.append(numero)\n",
        "        except ValueError:\n",
        "            print(\"Por favor, ingresa un número válido.\")\n",
        "\n",
        "    if numeros:\n",
        "        print(\"Lista en orden inverso:\")\n",
        "        for numero in reversed(numeros):\n",
        "            print(numero)\n",
        "    else:\n",
        "        print(\"La lista está vacía.\")\n",
        "\n",
        "if __name__ == \"__main__\":\n",
        "    main()\n",
        "\n"
      ],
      "metadata": {
        "colab": {
          "base_uri": "https://localhost:8080/"
        },
        "id": "nctZoJv4ns8-",
        "outputId": "98f254a1-6d31-4f11-a6be-a5bbd6937076"
      },
      "execution_count": 8,
      "outputs": [
        {
          "output_type": "stream",
          "name": "stdout",
          "text": [
            "Ingresa un número (o 'fin' para terminar): 78\n",
            "Ingresa un número (o 'fin' para terminar): 79\n",
            "Ingresa un número (o 'fin' para terminar): 61\n",
            "Ingresa un número (o 'fin' para terminar): 126\n",
            "Ingresa un número (o 'fin' para terminar): 15\n",
            "Ingresa un número (o 'fin' para terminar): 456\n",
            "Ingresa un número (o 'fin' para terminar): fin\n",
            "Lista en orden inverso:\n",
            "456.0\n",
            "15.0\n",
            "126.0\n",
            "61.0\n",
            "79.0\n",
            "78.0\n"
          ]
        }
      ]
    },
    {
      "cell_type": "code",
      "source": [
        "import random\n",
        "\n",
        "def jugar_adivina_el_numero():\n",
        "    numero_objetivo = random.randint(1, 100)\n",
        "    intentos = 0\n",
        "\n",
        "    print(\"Bienvenido al juego de adivinar el número entre 1 y 100.\")\n",
        "\n",
        "    while True:\n",
        "        try:\n",
        "            adivinanza = int(input(\"Intenta adivinar el número: \"))\n",
        "            intentos += 1\n",
        "\n",
        "            if adivinanza < 1 or adivinanza > 100:\n",
        "                print(\"Por favor, ingresa un número entre 1 y 100.\")\n",
        "            elif adivinanza < numero_objetivo:\n",
        "                print(\"El número es mayor.\")\n",
        "            elif adivinanza > numero_objetivo:\n",
        "                print(\"El número es menor.\")\n",
        "            else:\n",
        "                print(f\"Felicidades, ¡adivinaste el número {numero_objetivo} en {intentos} intentos!\")\n",
        "                break\n",
        "\n",
        "        except ValueError:\n",
        "            print(\"Por favor, ingresa un número válido.\")\n",
        "\n",
        "if __name__ == \"__main__\":\n",
        "    jugar_adivina_el_numero()\n"
      ],
      "metadata": {
        "colab": {
          "base_uri": "https://localhost:8080/"
        },
        "id": "ef3p3T3Dn34w",
        "outputId": "ca805fb1-8bc5-45cb-8d66-2c9dc061bb3f"
      },
      "execution_count": 9,
      "outputs": [
        {
          "output_type": "stream",
          "name": "stdout",
          "text": [
            "Bienvenido al juego de adivinar el número entre 1 y 100.\n",
            "Intenta adivinar el número: 15\n",
            "El número es mayor.\n",
            "Intenta adivinar el número: 45\n",
            "El número es mayor.\n",
            "Intenta adivinar el número: 67\n",
            "El número es mayor.\n",
            "Intenta adivinar el número: 89\n",
            "El número es mayor.\n",
            "Intenta adivinar el número: 99\n",
            "El número es menor.\n",
            "Intenta adivinar el número: 95\n",
            "El número es menor.\n",
            "Intenta adivinar el número: 93\n",
            "El número es menor.\n",
            "Intenta adivinar el número: 91\n",
            "Felicidades, ¡adivinaste el número 91 en 8 intentos!\n"
          ]
        }
      ]
    },
    {
      "cell_type": "code",
      "source": [
        "def es_primo(numero):\n",
        "    if numero <= 1:\n",
        "        return False\n",
        "    if numero <= 3:\n",
        "        return True\n",
        "    if numero % 2 == 0 or numero % 3 == 0:\n",
        "        return False\n",
        "    i = 5\n",
        "    while i * i <= numero:\n",
        "        if numero % i == 0 or numero % (i + 2) == 0:\n",
        "            return False\n",
        "        i += 6\n",
        "    return True\n",
        "\n",
        "def numeros_primos_en_rango(inicio, fin):\n",
        "    primos = []\n",
        "    for num in range(inicio, fin + 1):\n",
        "        if es_primo(num):\n",
        "            primos.append(num)\n",
        "    return primos\n",
        "\n",
        "def main():\n",
        "    try:\n",
        "        inicio = int(input(\"Ingresa el número inicial del rango: \"))\n",
        "        fin = int(input(\"Ingresa el número final del rango: \"))\n",
        "\n",
        "        if inicio < 2:\n",
        "            inicio = 2  # Ajustamos el inicio mínimo a 2 para asegurarnos de buscar primos positivos.\n",
        "\n",
        "        if inicio > fin:\n",
        "            print(\"El número inicial debe ser menor o igual al número final.\")\n",
        "        else:\n",
        "            primos = numeros_primos_en_rango(inicio, fin)\n",
        "            if primos:\n",
        "                print(f\"Números primos en el rango de {inicio} a {fin}:\")\n",
        "                for primo in primos:\n",
        "                    print(primo)\n",
        "            else:\n",
        "                print(f\"No se encontraron números primos en el rango de {inicio} a {fin}.\")\n",
        "\n",
        "    except ValueError:\n",
        "        print(\"Por favor, ingresa valores numéricos válidos.\")\n",
        "\n",
        "if __name__ == \"__main__\":\n",
        "    main()\n"
      ],
      "metadata": {
        "colab": {
          "base_uri": "https://localhost:8080/"
        },
        "id": "hMpJ1fN1vgXY",
        "outputId": "a0e8bf42-cba3-4491-a72e-bd4ba9eb22a3"
      },
      "execution_count": 10,
      "outputs": [
        {
          "output_type": "stream",
          "name": "stdout",
          "text": [
            "Ingresa el número inicial del rango: 1\n",
            "Ingresa el número final del rango: 100\n",
            "Números primos en el rango de 2 a 100:\n",
            "2\n",
            "3\n",
            "5\n",
            "7\n",
            "11\n",
            "13\n",
            "17\n",
            "19\n",
            "23\n",
            "29\n",
            "31\n",
            "37\n",
            "41\n",
            "43\n",
            "47\n",
            "53\n",
            "59\n",
            "61\n",
            "67\n",
            "71\n",
            "73\n",
            "79\n",
            "83\n",
            "89\n",
            "97\n"
          ]
        }
      ]
    }
  ]
}